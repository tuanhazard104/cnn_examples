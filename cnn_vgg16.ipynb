{
  "nbformat": 4,
  "nbformat_minor": 0,
  "metadata": {
    "colab": {
      "name": "Untitled0.ipynb",
      "provenance": [],
      "collapsed_sections": []
    },
    "kernelspec": {
      "name": "python3",
      "display_name": "Python 3"
    },
    "language_info": {
      "name": "python"
    },
    "accelerator": "GPU"
  },
  "cells": [
    {
      "cell_type": "code",
      "execution_count": 2,
      "metadata": {
        "id": "1gchvahPddjO"
      },
      "outputs": [],
      "source": [
        "import torch\n",
        "from torch import nn \n",
        "from torch.utils.data import DataLoader\n",
        "import torchvision\n",
        "from torchvision import transforms\n",
        "import matplotlib.pyplot as plt\n",
        "from collections import namedtuple\n",
        "from sklearn.metrics import classification_report"
      ]
    },
    {
      "cell_type": "code",
      "source": [
        "from torch._C import device\n",
        "from torch.nn.modules.batchnorm import BatchNorm2d\n",
        "from collections import namedtuple\n",
        "def get_classes():\n",
        "  classes = ['plane', 'car', 'bird', 'cat', 'deer', 'dog', 'frog', 'horse', 'ship', 'truck']\n",
        "  return classes\n",
        "\n",
        "# khai bao tap train va test theo cau truc de de su dung\n",
        "TrainTest = namedtuple('TrainTest', ['train', 'test'])\n",
        "\n",
        "def prepare_data():\n",
        "  transform = transforms.Compose([\n",
        "    transforms.ToTensor()\n",
        "  ])\n",
        "  trainset = torchvision.datasets.CIFAR10(root='.\\data', download=True, train=True, transform=transform)\n",
        "  testset = torchvision.datasets.CIFAR10(root='.\\data', download=True, train=False, transform=transform)\n",
        "  return TrainTest(train=trainset, test=testset)\n",
        "\n",
        "# cung cap du lieu theo tung batch, moi lan dua 1 batch gom 128 anh vao de training\n",
        "def prepare_loader(datasets):\n",
        "  trainloader = DataLoader(dataset=datasets.train, batch_size=128, shuffle=True, num_workers=4)\n",
        "  testloader = DataLoader(dataset=datasets.test, batch_size=128, shuffle=False, num_workers=4)\n",
        "  return TrainTest(train=trainloader, test=testloader)\n",
        "\n",
        "class VGG16(nn.Module):\n",
        "  def __init__(self):\n",
        "    super().__init__() \n",
        "    self.features = self._make_features()\n",
        "    self.classification_head = nn.Linear(in_features=512, out_features=10)\n",
        "  \n",
        "  def forward(self, x):  # anh dau vao la x\n",
        "    out = self.features(x) # dau ra la anh khi ta cho qua cac layers\n",
        "    out = out.view(out.size(0), -1) # dau vao cua lop full 4-conected la anh 128x512x1x1\n",
        "    # ta can chuyen anh ve dang 128x512, cac chieu phia sau bi gop lai\n",
        "    \n",
        "    out = self.classification_head(out) #128x10\n",
        "    return out\n",
        "\n",
        "  def _make_features(self):\n",
        "    config = [64,64,'MP',128,128,'MP',256,256,256,'MP',512,512,512,'MP',512,512,512,'MP']\n",
        "    layers = [] # tao mang chua cac layers\n",
        "    c_in=3 # anh mau RGB\n",
        "    for c in config:\n",
        "      if c == 'MP':\n",
        "        layers += [nn.MaxPool2d(kernel_size=2, stride=2)]\n",
        "      else:\n",
        "        layers += [nn.Conv2d(in_channels=c_in, \n",
        "                             out_channels=c,\n",
        "                             kernel_size=3,\n",
        "                             stride=1,\n",
        "                             padding=1), #padding=1 lam cho kich thuoc ma tran dau ra khong doi\n",
        "                   nn.BatchNorm2d(num_features=c),\n",
        "                   nn.ReLU6(inplace=True)] # lam` viec truc tiep tren dau ra\n",
        "        c_in = c # moi lop se lam thay doi so kenh cua anh\n",
        "    return nn.Sequential(*layers) # tao ra network gom cac layers\n",
        "\n",
        "def imshow(images, labels, predicted, target_names):\n",
        "  img = torchvision.utils.make_grid(images)\n",
        "  plt.imshow(img.permute(1,2,0).cpu().numpy())\n",
        "  [print(target_names[c], end=' ') for c in list(labels.cpu().numpy())]\n",
        "  print() # nhan that \n",
        "  [print(target_names[c], end=' ') for c in list(predicted.cpu().numpy())]\n",
        "  print() # nhan du doan\n",
        "\n",
        "def train_epoch(epoch, model, loader, loss_func, optimizer, device):\n",
        "  model.train() \n",
        "  running_loss = 0.0\n",
        "  reporting_steps = 60 # moi 60 vong lap report 1 lan\n",
        "  for i, (images, labels) in enumerate(loader):\n",
        "    #model.train()\n",
        "    images, labels = images.to(device), labels.to(device)\n",
        "    outputs = model(images)\n",
        "    loss = loss_func(outputs, labels)\n",
        "\n",
        "    optimizer.zero_grad()\n",
        "    loss.backward() # tinh dao ham tu ham loi\n",
        "    optimizer.step()\n",
        "\n",
        "    # quan sat qua trinh training\n",
        "    running_loss += loss.item()\n",
        "    if i % reporting_steps == reporting_steps-1:\n",
        "      print(f\"Epoch {epoch} step {i} ave_loss {running_loss/reporting_steps:.4f}\")\n",
        "      running_loss = 0.0\n",
        "\n",
        "def test_epoch(epoch, model, loader, device):\n",
        "  ytrue = []\n",
        "  ypred = []\n",
        "  with torch.no_grad():\n",
        "    model.eval()\n",
        "  \n",
        "    for i, (images, labels) in enumerate(loader):\n",
        "      images, labels = images.to(device), labels.to(device)\n",
        "      outputs = model(images)\n",
        "      _, predicted = torch.max(outputs, dim=1)\n",
        "\n",
        "      ytrue += list(labels.cpu().numpy())\n",
        "      ypred += list(predicted.cpu().numpy())\n",
        "\n",
        "  return ypred, ytrue\n",
        "\n",
        "def main():\n",
        "  classes = get_classes()\n",
        "  datasets = prepare_data()\n",
        "\n",
        "  loaders = prepare_loader(datasets)\n",
        "\n",
        "  # train bang gpu\n",
        "  device = torch.device(\"cuda:0\")\n",
        "  model = VGG16().to(device)\n",
        "  \n",
        "  loss_func = nn.CrossEntropyLoss()\n",
        "  optimizer = torch.optim.SGD(model.parameters(), lr=0.01, momentum=0.9, weight_decay=5e-4)\n",
        "  for epoch in range(10):\n",
        "    train_epoch(epoch, model, loaders.train, loss_func, optimizer, device)\n",
        "    ypred, ytrue = test_epoch(epoch, model, loaders.test, device)\n",
        "    print(classification_report(ytrue, ypred))\n",
        "\n",
        "main()"
      ],
      "metadata": {
        "colab": {
          "base_uri": "https://localhost:8080/"
        },
        "id": "uvLkkBTfdiVj",
        "outputId": "24161d2b-70eb-429e-cdd6-ce90046d8e81"
      },
      "execution_count": 12,
      "outputs": [
        {
          "output_type": "stream",
          "name": "stdout",
          "text": [
            "Files already downloaded and verified\n",
            "Files already downloaded and verified\n"
          ]
        },
        {
          "output_type": "stream",
          "name": "stderr",
          "text": [
            "/usr/local/lib/python3.7/dist-packages/torch/utils/data/dataloader.py:481: UserWarning: This DataLoader will create 4 worker processes in total. Our suggested max number of worker in current system is 2, which is smaller than what this DataLoader is going to create. Please be aware that excessive worker creation might get DataLoader running slow or even freeze, lower the worker number to avoid potential slowness/freeze if necessary.\n",
            "  cpuset_checked))\n"
          ]
        },
        {
          "output_type": "stream",
          "name": "stdout",
          "text": [
            "Epoch 0 step 59 ave_loss 1.9708\n",
            "Epoch 0 step 119 ave_loss 1.5822\n",
            "Epoch 0 step 179 ave_loss 1.3671\n",
            "Epoch 0 step 239 ave_loss 1.2290\n",
            "Epoch 0 step 299 ave_loss 1.1308\n",
            "Epoch 0 step 359 ave_loss 1.0406\n",
            "              precision    recall  f1-score   support\n",
            "\n",
            "           0       0.90      0.35      0.51      1000\n",
            "           1       0.79      0.83      0.81      1000\n",
            "           2       0.46      0.54      0.50      1000\n",
            "           3       0.35      0.37      0.36      1000\n",
            "           4       0.59      0.66      0.62      1000\n",
            "           5       0.46      0.73      0.56      1000\n",
            "           6       0.78      0.71      0.75      1000\n",
            "           7       0.82      0.60      0.69      1000\n",
            "           8       0.85      0.69      0.76      1000\n",
            "           9       0.72      0.84      0.78      1000\n",
            "\n",
            "    accuracy                           0.63     10000\n",
            "   macro avg       0.67      0.63      0.63     10000\n",
            "weighted avg       0.67      0.63      0.63     10000\n",
            "\n"
          ]
        },
        {
          "output_type": "stream",
          "name": "stderr",
          "text": [
            "/usr/local/lib/python3.7/dist-packages/torch/utils/data/dataloader.py:481: UserWarning: This DataLoader will create 4 worker processes in total. Our suggested max number of worker in current system is 2, which is smaller than what this DataLoader is going to create. Please be aware that excessive worker creation might get DataLoader running slow or even freeze, lower the worker number to avoid potential slowness/freeze if necessary.\n",
            "  cpuset_checked))\n"
          ]
        },
        {
          "output_type": "stream",
          "name": "stdout",
          "text": [
            "Epoch 1 step 59 ave_loss 0.8696\n",
            "Epoch 1 step 119 ave_loss 0.8416\n",
            "Epoch 1 step 179 ave_loss 0.7882\n",
            "Epoch 1 step 239 ave_loss 0.7671\n",
            "Epoch 1 step 299 ave_loss 0.7569\n",
            "Epoch 1 step 359 ave_loss 0.7241\n",
            "              precision    recall  f1-score   support\n",
            "\n",
            "           0       0.78      0.73      0.75      1000\n",
            "           1       0.76      0.94      0.84      1000\n",
            "           2       0.43      0.78      0.55      1000\n",
            "           3       0.52      0.59      0.55      1000\n",
            "           4       0.80      0.53      0.64      1000\n",
            "           5       0.81      0.43      0.56      1000\n",
            "           6       0.89      0.66      0.76      1000\n",
            "           7       0.87      0.70      0.78      1000\n",
            "           8       0.80      0.90      0.85      1000\n",
            "           9       0.82      0.84      0.83      1000\n",
            "\n",
            "    accuracy                           0.71     10000\n",
            "   macro avg       0.75      0.71      0.71     10000\n",
            "weighted avg       0.75      0.71      0.71     10000\n",
            "\n"
          ]
        },
        {
          "output_type": "stream",
          "name": "stderr",
          "text": [
            "/usr/local/lib/python3.7/dist-packages/torch/utils/data/dataloader.py:481: UserWarning: This DataLoader will create 4 worker processes in total. Our suggested max number of worker in current system is 2, which is smaller than what this DataLoader is going to create. Please be aware that excessive worker creation might get DataLoader running slow or even freeze, lower the worker number to avoid potential slowness/freeze if necessary.\n",
            "  cpuset_checked))\n"
          ]
        },
        {
          "output_type": "stream",
          "name": "stdout",
          "text": [
            "Epoch 2 step 59 ave_loss 0.5995\n",
            "Epoch 2 step 119 ave_loss 0.5940\n",
            "Epoch 2 step 179 ave_loss 0.5712\n",
            "Epoch 2 step 239 ave_loss 0.5750\n",
            "Epoch 2 step 299 ave_loss 0.5477\n",
            "Epoch 2 step 359 ave_loss 0.5655\n",
            "              precision    recall  f1-score   support\n",
            "\n",
            "           0       0.72      0.84      0.78      1000\n",
            "           1       0.95      0.75      0.84      1000\n",
            "           2       0.79      0.58      0.67      1000\n",
            "           3       0.76      0.39      0.51      1000\n",
            "           4       0.75      0.80      0.78      1000\n",
            "           5       0.65      0.79      0.71      1000\n",
            "           6       0.72      0.91      0.81      1000\n",
            "           7       0.81      0.87      0.83      1000\n",
            "           8       0.97      0.62      0.76      1000\n",
            "           9       0.62      0.95      0.75      1000\n",
            "\n",
            "    accuracy                           0.75     10000\n",
            "   macro avg       0.77      0.75      0.74     10000\n",
            "weighted avg       0.77      0.75      0.74     10000\n",
            "\n"
          ]
        },
        {
          "output_type": "stream",
          "name": "stderr",
          "text": [
            "/usr/local/lib/python3.7/dist-packages/torch/utils/data/dataloader.py:481: UserWarning: This DataLoader will create 4 worker processes in total. Our suggested max number of worker in current system is 2, which is smaller than what this DataLoader is going to create. Please be aware that excessive worker creation might get DataLoader running slow or even freeze, lower the worker number to avoid potential slowness/freeze if necessary.\n",
            "  cpuset_checked))\n"
          ]
        },
        {
          "output_type": "stream",
          "name": "stdout",
          "text": [
            "Epoch 3 step 59 ave_loss 0.4594\n",
            "Epoch 3 step 119 ave_loss 0.4367\n",
            "Epoch 3 step 179 ave_loss 0.4682\n",
            "Epoch 3 step 239 ave_loss 0.4645\n",
            "Epoch 3 step 299 ave_loss 0.4439\n",
            "Epoch 3 step 359 ave_loss 0.4394\n",
            "              precision    recall  f1-score   support\n",
            "\n",
            "           0       0.83      0.80      0.82      1000\n",
            "           1       0.92      0.91      0.91      1000\n",
            "           2       0.73      0.67      0.70      1000\n",
            "           3       0.75      0.44      0.55      1000\n",
            "           4       0.55      0.93      0.69      1000\n",
            "           5       0.87      0.45      0.59      1000\n",
            "           6       0.73      0.89      0.81      1000\n",
            "           7       0.74      0.86      0.80      1000\n",
            "           8       0.89      0.89      0.89      1000\n",
            "           9       0.88      0.86      0.87      1000\n",
            "\n",
            "    accuracy                           0.77     10000\n",
            "   macro avg       0.79      0.77      0.76     10000\n",
            "weighted avg       0.79      0.77      0.76     10000\n",
            "\n"
          ]
        },
        {
          "output_type": "stream",
          "name": "stderr",
          "text": [
            "/usr/local/lib/python3.7/dist-packages/torch/utils/data/dataloader.py:481: UserWarning: This DataLoader will create 4 worker processes in total. Our suggested max number of worker in current system is 2, which is smaller than what this DataLoader is going to create. Please be aware that excessive worker creation might get DataLoader running slow or even freeze, lower the worker number to avoid potential slowness/freeze if necessary.\n",
            "  cpuset_checked))\n"
          ]
        },
        {
          "output_type": "stream",
          "name": "stdout",
          "text": [
            "Epoch 4 step 59 ave_loss 0.3449\n",
            "Epoch 4 step 119 ave_loss 0.3535\n",
            "Epoch 4 step 179 ave_loss 0.3592\n",
            "Epoch 4 step 239 ave_loss 0.3567\n",
            "Epoch 4 step 299 ave_loss 0.3729\n",
            "Epoch 4 step 359 ave_loss 0.3527\n",
            "              precision    recall  f1-score   support\n",
            "\n",
            "           0       0.81      0.80      0.80      1000\n",
            "           1       0.96      0.84      0.90      1000\n",
            "           2       0.68      0.69      0.68      1000\n",
            "           3       0.67      0.54      0.59      1000\n",
            "           4       0.60      0.87      0.71      1000\n",
            "           5       0.94      0.36      0.52      1000\n",
            "           6       0.61      0.95      0.75      1000\n",
            "           7       0.90      0.73      0.80      1000\n",
            "           8       0.82      0.94      0.88      1000\n",
            "           9       0.89      0.87      0.88      1000\n",
            "\n",
            "    accuracy                           0.76     10000\n",
            "   macro avg       0.79      0.76      0.75     10000\n",
            "weighted avg       0.79      0.76      0.75     10000\n",
            "\n"
          ]
        },
        {
          "output_type": "stream",
          "name": "stderr",
          "text": [
            "/usr/local/lib/python3.7/dist-packages/torch/utils/data/dataloader.py:481: UserWarning: This DataLoader will create 4 worker processes in total. Our suggested max number of worker in current system is 2, which is smaller than what this DataLoader is going to create. Please be aware that excessive worker creation might get DataLoader running slow or even freeze, lower the worker number to avoid potential slowness/freeze if necessary.\n",
            "  cpuset_checked))\n"
          ]
        },
        {
          "output_type": "stream",
          "name": "stdout",
          "text": [
            "Epoch 5 step 59 ave_loss 0.2474\n",
            "Epoch 5 step 119 ave_loss 0.2627\n",
            "Epoch 5 step 179 ave_loss 0.2818\n",
            "Epoch 5 step 239 ave_loss 0.2862\n",
            "Epoch 5 step 299 ave_loss 0.2807\n",
            "Epoch 5 step 359 ave_loss 0.3001\n",
            "              precision    recall  f1-score   support\n",
            "\n",
            "           0       0.81      0.82      0.81      1000\n",
            "           1       0.92      0.91      0.91      1000\n",
            "           2       0.71      0.79      0.75      1000\n",
            "           3       0.57      0.79      0.66      1000\n",
            "           4       0.79      0.82      0.80      1000\n",
            "           5       0.80      0.67      0.73      1000\n",
            "           6       0.94      0.75      0.83      1000\n",
            "           7       0.96      0.76      0.85      1000\n",
            "           8       0.82      0.95      0.88      1000\n",
            "           9       0.95      0.82      0.89      1000\n",
            "\n",
            "    accuracy                           0.81     10000\n",
            "   macro avg       0.83      0.81      0.81     10000\n",
            "weighted avg       0.83      0.81      0.81     10000\n",
            "\n"
          ]
        },
        {
          "output_type": "stream",
          "name": "stderr",
          "text": [
            "/usr/local/lib/python3.7/dist-packages/torch/utils/data/dataloader.py:481: UserWarning: This DataLoader will create 4 worker processes in total. Our suggested max number of worker in current system is 2, which is smaller than what this DataLoader is going to create. Please be aware that excessive worker creation might get DataLoader running slow or even freeze, lower the worker number to avoid potential slowness/freeze if necessary.\n",
            "  cpuset_checked))\n"
          ]
        },
        {
          "output_type": "stream",
          "name": "stdout",
          "text": [
            "Epoch 6 step 59 ave_loss 0.1823\n",
            "Epoch 6 step 119 ave_loss 0.2183\n",
            "Epoch 6 step 179 ave_loss 0.2389\n",
            "Epoch 6 step 239 ave_loss 0.2122\n",
            "Epoch 6 step 299 ave_loss 0.2414\n",
            "Epoch 6 step 359 ave_loss 0.2557\n",
            "              precision    recall  f1-score   support\n",
            "\n",
            "           0       0.80      0.89      0.84      1000\n",
            "           1       0.94      0.91      0.93      1000\n",
            "           2       0.62      0.84      0.72      1000\n",
            "           3       0.64      0.73      0.68      1000\n",
            "           4       0.84      0.75      0.79      1000\n",
            "           5       0.92      0.54      0.68      1000\n",
            "           6       0.93      0.82      0.87      1000\n",
            "           7       0.87      0.87      0.87      1000\n",
            "           8       0.89      0.93      0.91      1000\n",
            "           9       0.88      0.91      0.89      1000\n",
            "\n",
            "    accuracy                           0.82     10000\n",
            "   macro avg       0.83      0.82      0.82     10000\n",
            "weighted avg       0.83      0.82      0.82     10000\n",
            "\n"
          ]
        },
        {
          "output_type": "stream",
          "name": "stderr",
          "text": [
            "/usr/local/lib/python3.7/dist-packages/torch/utils/data/dataloader.py:481: UserWarning: This DataLoader will create 4 worker processes in total. Our suggested max number of worker in current system is 2, which is smaller than what this DataLoader is going to create. Please be aware that excessive worker creation might get DataLoader running slow or even freeze, lower the worker number to avoid potential slowness/freeze if necessary.\n",
            "  cpuset_checked))\n"
          ]
        },
        {
          "output_type": "stream",
          "name": "stdout",
          "text": [
            "Epoch 7 step 59 ave_loss 0.1357\n",
            "Epoch 7 step 119 ave_loss 0.1677\n",
            "Epoch 7 step 179 ave_loss 0.1778\n",
            "Epoch 7 step 239 ave_loss 0.1922\n",
            "Epoch 7 step 299 ave_loss 0.1869\n",
            "Epoch 7 step 359 ave_loss 0.2004\n",
            "              precision    recall  f1-score   support\n",
            "\n",
            "           0       0.81      0.88      0.85      1000\n",
            "           1       0.95      0.89      0.92      1000\n",
            "           2       0.80      0.69      0.74      1000\n",
            "           3       0.62      0.73      0.67      1000\n",
            "           4       0.78      0.85      0.81      1000\n",
            "           5       0.67      0.79      0.73      1000\n",
            "           6       0.91      0.83      0.87      1000\n",
            "           7       0.96      0.75      0.84      1000\n",
            "           8       0.92      0.91      0.91      1000\n",
            "           9       0.92      0.90      0.91      1000\n",
            "\n",
            "    accuracy                           0.82     10000\n",
            "   macro avg       0.83      0.82      0.82     10000\n",
            "weighted avg       0.83      0.82      0.82     10000\n",
            "\n"
          ]
        },
        {
          "output_type": "stream",
          "name": "stderr",
          "text": [
            "/usr/local/lib/python3.7/dist-packages/torch/utils/data/dataloader.py:481: UserWarning: This DataLoader will create 4 worker processes in total. Our suggested max number of worker in current system is 2, which is smaller than what this DataLoader is going to create. Please be aware that excessive worker creation might get DataLoader running slow or even freeze, lower the worker number to avoid potential slowness/freeze if necessary.\n",
            "  cpuset_checked))\n"
          ]
        },
        {
          "output_type": "stream",
          "name": "stdout",
          "text": [
            "Epoch 8 step 59 ave_loss 0.1308\n",
            "Epoch 8 step 119 ave_loss 0.1149\n",
            "Epoch 8 step 179 ave_loss 0.1343\n",
            "Epoch 8 step 239 ave_loss 0.1428\n",
            "Epoch 8 step 299 ave_loss 0.1621\n",
            "Epoch 8 step 359 ave_loss 0.1720\n",
            "              precision    recall  f1-score   support\n",
            "\n",
            "           0       0.77      0.91      0.83      1000\n",
            "           1       0.87      0.95      0.91      1000\n",
            "           2       0.91      0.63      0.74      1000\n",
            "           3       0.69      0.68      0.68      1000\n",
            "           4       0.80      0.83      0.81      1000\n",
            "           5       0.68      0.82      0.74      1000\n",
            "           6       0.86      0.89      0.87      1000\n",
            "           7       0.87      0.84      0.86      1000\n",
            "           8       0.96      0.79      0.87      1000\n",
            "           9       0.90      0.89      0.90      1000\n",
            "\n",
            "    accuracy                           0.82     10000\n",
            "   macro avg       0.83      0.82      0.82     10000\n",
            "weighted avg       0.83      0.82      0.82     10000\n",
            "\n"
          ]
        },
        {
          "output_type": "stream",
          "name": "stderr",
          "text": [
            "/usr/local/lib/python3.7/dist-packages/torch/utils/data/dataloader.py:481: UserWarning: This DataLoader will create 4 worker processes in total. Our suggested max number of worker in current system is 2, which is smaller than what this DataLoader is going to create. Please be aware that excessive worker creation might get DataLoader running slow or even freeze, lower the worker number to avoid potential slowness/freeze if necessary.\n",
            "  cpuset_checked))\n"
          ]
        },
        {
          "output_type": "stream",
          "name": "stdout",
          "text": [
            "Epoch 9 step 59 ave_loss 0.1035\n",
            "Epoch 9 step 119 ave_loss 0.1092\n",
            "Epoch 9 step 179 ave_loss 0.1086\n",
            "Epoch 9 step 239 ave_loss 0.1226\n",
            "Epoch 9 step 299 ave_loss 0.1365\n",
            "Epoch 9 step 359 ave_loss 0.1385\n",
            "              precision    recall  f1-score   support\n",
            "\n",
            "           0       0.86      0.85      0.85      1000\n",
            "           1       0.88      0.94      0.91      1000\n",
            "           2       0.75      0.77      0.76      1000\n",
            "           3       0.54      0.83      0.65      1000\n",
            "           4       0.89      0.72      0.80      1000\n",
            "           5       0.90      0.56      0.69      1000\n",
            "           6       0.85      0.88      0.87      1000\n",
            "           7       0.89      0.85      0.87      1000\n",
            "           8       0.91      0.90      0.91      1000\n",
            "           9       0.91      0.90      0.90      1000\n",
            "\n",
            "    accuracy                           0.82     10000\n",
            "   macro avg       0.84      0.82      0.82     10000\n",
            "weighted avg       0.84      0.82      0.82     10000\n",
            "\n"
          ]
        }
      ]
    },
    {
      "cell_type": "code",
      "source": [
        ""
      ],
      "metadata": {
        "id": "o4c0AUgUe205"
      },
      "execution_count": null,
      "outputs": []
    }
  ]
}